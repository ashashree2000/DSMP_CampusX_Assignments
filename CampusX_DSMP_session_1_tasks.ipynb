{
  "nbformat": 4,
  "nbformat_minor": 0,
  "metadata": {
    "colab": {
      "provenance": [],
      "include_colab_link": true
    },
    "kernelspec": {
      "name": "python3",
      "display_name": "Python 3"
    },
    "language_info": {
      "name": "python"
    }
  },
  "cells": [
    {
      "cell_type": "markdown",
      "metadata": {
        "id": "view-in-github",
        "colab_type": "text"
      },
      "source": [
        "<a href=\"https://colab.research.google.com/github/ashashree2000/DSMP_CampusX_Assignments/blob/main/CampusX_DSMP_session_1_tasks.ipynb\" target=\"_parent\"><img src=\"https://colab.research.google.com/assets/colab-badge.svg\" alt=\"Open In Colab\"/></a>"
      ]
    },
    {
      "cell_type": "markdown",
      "source": [
        "# Task : Session 1\n",
        "Solve these questions own your own and try to test yourself what you have learned in the session.\n",
        "\n",
        "Happy Learning!"
      ],
      "metadata": {
        "id": "A05OG15VqOPF"
      }
    },
    {
      "cell_type": "markdown",
      "source": [
        "### Q1 :- Print the given strings as per stated format.\n",
        "\n",
        "**Given strings**:\n",
        "```\n",
        "\"Data\" \"Science\" \"Mentorship\" \"Program\"\n",
        "\"By\" \"CampusX\"\n",
        "```\n",
        "**Output**:\n",
        "```\n",
        "Data-Science-Mentorship-Program-started-By-CampusX\n",
        "```\n",
        "\n",
        "Concept- [Seperator and End]"
      ],
      "metadata": {
        "id": "2doIXf8bqe9_"
      }
    },
    {
      "cell_type": "code",
      "source": [
        "# Write your code here\n",
        "\n",
        "#declare the strings\n",
        "s1 = \"Data\"\n",
        "s2 = \"Science\"\n",
        "s3 = \"Mentorship\"\n",
        "s4 = \"Program\"\n",
        "s5 = \"By\"\n",
        "s6 = \"CampusX\"\n",
        "\n",
        "#print the string\n",
        "print(s1,s2,s3,s4,\"started\",s5,s6, sep=\"-\" )"
      ],
      "metadata": {
        "id": "-em6d3KErDtp",
        "colab": {
          "base_uri": "https://localhost:8080/"
        },
        "outputId": "a88684d6-eb04-4c92-b019-64cef5cb989a"
      },
      "execution_count": 2,
      "outputs": [
        {
          "output_type": "stream",
          "name": "stdout",
          "text": [
            "Data-Science-Mentorship-Program-started-By-CampusX\n"
          ]
        }
      ]
    },
    {
      "cell_type": "markdown",
      "source": [
        "### Q2:- Write a program that will convert celsius value to fahrenheit."
      ],
      "metadata": {
        "id": "1KUpN7ZTrC3_"
      }
    },
    {
      "cell_type": "code",
      "source": [
        "# Write your code here\n",
        "\n",
        "celsius_value = float(input(\"Enter temperature in Celsius: \"))\n",
        "fahrenheit_value = (celsius_value * 9/5) + 32\n",
        "print(\"Temperature in Fahrenheit:\", fahrenheit_value)"
      ],
      "metadata": {
        "id": "yxKYhYQiqWfj",
        "colab": {
          "base_uri": "https://localhost:8080/"
        },
        "outputId": "e63e072a-5d78-4837-d01d-1aada94e433f"
      },
      "execution_count": 3,
      "outputs": [
        {
          "output_type": "stream",
          "name": "stdout",
          "text": [
            "Enter temperature in Celsius: 32\n",
            "Temperature in Fahrenheit: 89.6\n"
          ]
        }
      ]
    },
    {
      "cell_type": "markdown",
      "source": [
        "### Q3:- Take 2 numbers as input from the user.Write a program to swap the numbers without using any special python syntax."
      ],
      "metadata": {
        "id": "RLrOBBJurLB2"
      }
    },
    {
      "cell_type": "code",
      "source": [
        "# Write your code here\n",
        "\n",
        "num1 = int(input('Enter the first number:' ))\n",
        "num2 = int(input('Enter the second number:'))\n",
        "\n",
        "#swap the numbers\n",
        "temp = num1\n",
        "num1 = num2\n",
        "num2 = temp\n",
        "\n",
        "print(\"After swapping, first number:\", num1)\n",
        "print(\"After swapping, second number:\", num2)"
      ],
      "metadata": {
        "id": "yPn7if0TrJ4F",
        "colab": {
          "base_uri": "https://localhost:8080/"
        },
        "outputId": "36751ab7-76f3-419e-fce0-777aca440ba0"
      },
      "execution_count": 6,
      "outputs": [
        {
          "output_type": "stream",
          "name": "stdout",
          "text": [
            "Enter the first number:3\n",
            "Enter the second number:4\n",
            "After swapping, first number: 4\n",
            "After swapping, second number: 3\n"
          ]
        }
      ]
    },
    {
      "cell_type": "markdown",
      "source": [
        "### Q4:- Write a program to find the euclidean distance between two coordinates.Take both the coordinates from the user as input."
      ],
      "metadata": {
        "id": "waLCP1bjr7ML"
      }
    },
    {
      "cell_type": "code",
      "source": [
        "# Write your code here\n",
        "\n",
        "#for 1 Dimensional\n",
        "coord1 = (int(input(\"Enter the first coordinate: \")))\n",
        "coord2 = (int(input(\"Enter the second coordinate: \")))\n",
        "\n",
        "Euc = (coord1**2 + coord2**2)**0.5\n",
        "print(\"Euclidean distance:\", Euc)"
      ],
      "metadata": {
        "id": "Pl1Sv-xnrxnH",
        "colab": {
          "base_uri": "https://localhost:8080/"
        },
        "outputId": "1d8dba1a-298e-4e6e-fc55-52415a8d0ee3"
      },
      "execution_count": 7,
      "outputs": [
        {
          "output_type": "stream",
          "name": "stdout",
          "text": [
            "Enter the first coordinate: 3\n",
            "Enter the second coordinate: 4\n",
            "Euclidean distance: 5.0\n"
          ]
        }
      ]
    },
    {
      "cell_type": "code",
      "source": [
        "#for 2 Dimensional\n",
        "\n",
        "#coordinate 1\n",
        "x1 = int(input(\"Enter the first coordinate: \"))\n",
        "y1 = int(input(\"Enter the second coordinate:\"))\n",
        "\n",
        "#coordinate 2\n",
        "x2 = int(input(\"Enter the first coordinate: \"))\n",
        "y2 = int(input(\"Enter the second coordinate:\"))\n",
        "\n",
        "#Euclidean distance\n",
        "Euc = ((x1-x2)**2 + (y1-y2)**2)**0.5\n",
        "print(\"Euclidean distance:\", Euc)\n"
      ],
      "metadata": {
        "colab": {
          "base_uri": "https://localhost:8080/"
        },
        "id": "3NY_b65LtZSP",
        "outputId": "ef6fc115-bbf9-4f9f-bc83-ec5d7b965626"
      },
      "execution_count": 8,
      "outputs": [
        {
          "output_type": "stream",
          "name": "stdout",
          "text": [
            "Enter the first coordinate: 2\n",
            "Enter the second coordinate:4\n",
            "Enter the first coordinate: 3\n",
            "Enter the second coordinate:5\n",
            "Euclidean distance: 1.4142135623730951\n"
          ]
        }
      ]
    },
    {
      "cell_type": "markdown",
      "source": [
        "### Q5:- Write a program to find the simple interest when the value of principle,rate of interest and time period is provided by the user.\n"
      ],
      "metadata": {
        "id": "VLrhg-FRsHjR"
      }
    },
    {
      "cell_type": "code",
      "source": [
        "# Write your code here\n",
        "principle = float(input(\"Enter the principle amount: \"))\n",
        "rate = float(input(\"Enter the rate of interest: \"))\n",
        "time = float(input(\"Enter the time period: \"))\n",
        "\n",
        "\n",
        "simple_interest = (principle * rate * time)/100\n",
        "print(\"Simple interest is:\", simple_interest)"
      ],
      "metadata": {
        "id": "s40DlReZsTmY",
        "colab": {
          "base_uri": "https://localhost:8080/"
        },
        "outputId": "d27a1890-ef03-463b-b3cb-c4478e750cde"
      },
      "execution_count": 11,
      "outputs": [
        {
          "output_type": "stream",
          "name": "stdout",
          "text": [
            "Enter the principle amount: 1000\n",
            "Enter the rate of interest: 9.6\n",
            "Enter the time period: 5\n",
            "Simple interest is: 480.0\n"
          ]
        }
      ]
    },
    {
      "cell_type": "markdown",
      "source": [
        "### Q6:- Write a program that will tell the number of dogs and chicken are there when the user will provide the value of total heads and legs.\n",
        "\n",
        "For example:\n",
        "Input:\n",
        "heads -> 4\n",
        "legs -> 12\n",
        "<br>\n",
        "Output:\n",
        "dogs -> 2\n",
        "chicken -> 2\n",
        "\n",
        "\n",
        "\n"
      ],
      "metadata": {
        "id": "LMy0BTUktYKa"
      }
    },
    {
      "cell_type": "code",
      "source": [
        "# Write your code here\n",
        "heads = int(input(\"Enter the number of heads: \"))\n",
        "legs = int(input(\"Enter the number of legs: \"))\n",
        "\n",
        "dogs = (legs - 2 * heads) / 2\n",
        "chicken = heads - dogs\n",
        "\n",
        "print(\"Dogs:\", dogs)\n",
        "print(\"Chicken:\", chicken)"
      ],
      "metadata": {
        "id": "XSBvJoA4tXaG",
        "colab": {
          "base_uri": "https://localhost:8080/"
        },
        "outputId": "73aca18a-0914-4c20-96b2-663f456d9c19"
      },
      "execution_count": 16,
      "outputs": [
        {
          "output_type": "stream",
          "name": "stdout",
          "text": [
            "Enter the number of heads: 4\n",
            "Enter the number of legs: 12\n",
            "Dogs: 2.0\n",
            "Chicken: 2.0\n"
          ]
        }
      ]
    },
    {
      "cell_type": "code",
      "source": [
        "# this approach doesnt contain the test case when the number of legs is an odd number"
      ],
      "metadata": {
        "id": "3u2VEmZ5xUX3"
      },
      "execution_count": null,
      "outputs": []
    },
    {
      "cell_type": "markdown",
      "source": [
        "### Q7:- Write a program to find the sum of squares of first n natural numbers where n will be provided by the user."
      ],
      "metadata": {
        "id": "gJ7C5kZYt4BP"
      }
    },
    {
      "cell_type": "code",
      "source": [
        "# Write your code here\n",
        "n = int(input(\"Enter the value of n: \"))\n",
        "sum_squares = (n * (n + 1) * (2 * n + 1)) / 6\n",
        "print(\"Sum of squares:\", sum_squares)"
      ],
      "metadata": {
        "id": "_tHsmEHzt2nX",
        "colab": {
          "base_uri": "https://localhost:8080/"
        },
        "outputId": "82b27469-0bc3-4496-fb02-41b47c7a9b6b"
      },
      "execution_count": 17,
      "outputs": [
        {
          "output_type": "stream",
          "name": "stdout",
          "text": [
            "Enter the value of n: 9\n",
            "Sum of squares: 285.0\n"
          ]
        }
      ]
    },
    {
      "cell_type": "markdown",
      "source": [
        "### Q8:- Given the first 2 terms of an Arithmetic Series.Find the Nth term of the series. Assume all inputs are provided by the user."
      ],
      "metadata": {
        "id": "FHrMM7g-yG1h"
      }
    },
    {
      "cell_type": "code",
      "source": [
        "# Write your code here\n",
        "term1 = int(input(\"Enter the first term: \"))\n",
        "term2 = int(input(\"Enter the second term: \"))\n",
        "n = int(input(\"Enter the value of n: \"))\n",
        "\n",
        "d = term2 - term1\n",
        "nth_term = term1 + (n - 1) * d\n",
        "print(\"Nth term:\", nth_term)"
      ],
      "metadata": {
        "id": "go4_kmZmyVSx",
        "colab": {
          "base_uri": "https://localhost:8080/"
        },
        "outputId": "40536d14-321e-43ff-8db6-545881359825"
      },
      "execution_count": 18,
      "outputs": [
        {
          "output_type": "stream",
          "name": "stdout",
          "text": [
            "Enter the first term: 1\n",
            "Enter the second term: 5\n",
            "Enter the value of n: 4\n",
            "Nth term: 13\n"
          ]
        }
      ]
    },
    {
      "cell_type": "markdown",
      "source": [
        "### Q9:- Given 2 fractions, find the sum of those 2 fractions.Take the numerator and denominator values of the fractions from the user."
      ],
      "metadata": {
        "id": "QgyRX_es1oum"
      }
    },
    {
      "cell_type": "code",
      "source": [
        "# Write your code here\n",
        "\n",
        "# Input from the user\n",
        "numerator1 = int(input(\"Enter the numerator of the first fraction: \"))\n",
        "denominator1 = int(input(\"Enter the denominator of the first fraction: \"))\n",
        "numerator2 = int(input(\"Enter the numerator of the second fraction: \"))\n",
        "denominator2 = int(input(\"Enter the denominator of the second fraction: \"))\n",
        "\n",
        "# Find a common denominator\n",
        "common_denominator = denominator1 * denominator2\n",
        "\n",
        "# Adjust the numerators based on the common denominator\n",
        "adjusted_num1 = numerator1 * denominator2\n",
        "adjusted_num2 = numerator2 * denominator1\n",
        "\n",
        "# Calculate the sum of the adjusted numerators\n",
        "sum_numerator = adjusted_num1 + adjusted_num2\n",
        "\n",
        "# Print the result\n",
        "print(\"Sum of the fractions:\", sum_numerator, \"/\", common_denominator)\n",
        "\n"
      ],
      "metadata": {
        "id": "X05xqFS1yW16",
        "colab": {
          "base_uri": "https://localhost:8080/"
        },
        "outputId": "e4a20a2c-b817-4c92-91d6-24db27164885"
      },
      "execution_count": 20,
      "outputs": [
        {
          "output_type": "stream",
          "name": "stdout",
          "text": [
            "Enter the numerator of the first fraction: 1\n",
            "Enter the denominator of the first fraction: 5\n",
            "Enter the numerator of the second fraction: 1\n",
            "Enter the denominator of the second fraction: 5\n",
            "Sum of the fractions: 10 / 25\n"
          ]
        }
      ]
    },
    {
      "cell_type": "markdown",
      "source": [
        "### Q10:- Given the height, width and breadth of a milk tank, you have to find out how many glasses of milk can be obtained? Assume all the inputs are provided by the user.\n",
        "\n",
        "\n",
        "\n",
        "Input:<br>\n",
        "Dimensions of the milk tank<br>\n",
        "H = 20cm, L = 20cm, B = 20cm\n",
        "<br><br>\n",
        "Dimensions of the glass<br>\n",
        "h = 3cm, r = 1cm"
      ],
      "metadata": {
        "id": "eaql38ln13u7"
      }
    },
    {
      "cell_type": "code",
      "source": [
        "# Write your code here\n",
        "height = int(input(\"Enter the height of the milk tank: \"))\n",
        "width = int(input(\"Enter the width of the milk tank: \"))\n",
        "breadth = int(input(\"Enter the breadth of the milk tank: \"))\n",
        "\n",
        "glass_height = int(input(\"Enter the height of the glass: \"))\n",
        "glass_radius = int(input(\"Enter the radius of the glass: \"))\n",
        "\n",
        "volume_tank = height * width * breadth\n",
        "volume_glass = (22/7) * glass_radius**2 * glass_height\n",
        "\n",
        "number_of_glasses = volume_tank // volume_glass\n",
        "print(\"Number of glasses:\", number_of_glasses)"
      ],
      "metadata": {
        "id": "FePZqno74eWv",
        "colab": {
          "base_uri": "https://localhost:8080/"
        },
        "outputId": "e8d9c001-035d-4884-a77a-b4fcf640e2aa"
      },
      "execution_count": 21,
      "outputs": [
        {
          "output_type": "stream",
          "name": "stdout",
          "text": [
            "Enter the height of the milk tank: 20\n",
            "Enter the width of the milk tank: 20\n",
            "Enter the breadth of the milk tank: 20\n",
            "Enter the height of the glass: 3\n",
            "Enter the radius of the glass: 1\n",
            "Number of glasses: 848.0\n"
          ]
        }
      ]
    }
  ]
}